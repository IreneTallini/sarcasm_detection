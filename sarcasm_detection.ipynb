{
 "cells": [
  {
   "cell_type": "markdown",
   "metadata": {},
   "source": [
    "# Imports"
   ]
  },
  {
   "cell_type": "code",
   "execution_count": 2,
   "metadata": {
    "collapsed": true,
    "jupyter": {
     "outputs_hidden": true
    }
   },
   "outputs": [],
   "source": [
    "import sqlite3, time, csv, re, random, string\n",
    "import time\n",
    "import codecs\n",
    "import numpy as np\n",
    "import sqlite3\n",
    "import pandas as pd\n",
    "from sklearn.feature_extraction.text import TfidfVectorizer\n",
    "from sklearn.pipeline import make_pipeline\n",
    "from sklearn.model_selection import GridSearchCV\n",
    "from sklearn.feature_extraction.text import ENGLISH_STOP_WORDS\n",
    "from sklearn.feature_extraction import DictVectorizer\n",
    "from sklearn.feature_extraction.text import CountVectorizer\n",
    "from sklearn.model_selection import cross_val_score\n",
    "from sklearn.model_selection import train_test_split\n",
    "from sklearn.feature_selection import SelectFromModel\n",
    "from sklearn.linear_model import LogisticRegression\n",
    "from sklearn.naive_bayes import MultinomialNB\n",
    "from sklearn.svm import SVC\n",
    "from sklearn.metrics import accuracy_score\n",
    "from sklearn.metrics import confusion_matrix\n",
    "from sklearn.utils import shuffle\n",
    "from langdetect import detect, DetectorFactory\n",
    "from scipy.sparse import csr_matrix\n",
    "DetectorFactory.seed = 0\n",
    "import warnings\n",
    "warnings.filterwarnings(\"ignore\") "
   ]
  },
  {
   "cell_type": "markdown",
   "metadata": {},
   "source": [
    "# 1. Data Reading and Cleaning"
   ]
  },
  {
   "cell_type": "markdown",
   "metadata": {},
   "source": [
    "Connecing to SQL database and downloading posts.\n",
    "Posts are split into two dataframes: sarcastic and not sarcastic."
   ]
  },
  {
   "cell_type": "code",
   "execution_count": 2,
   "metadata": {
    "collapsed": true,
    "jupyter": {
     "outputs_hidden": true
    }
   },
   "outputs": [],
   "source": [
    "sql_conn = sqlite3.connect('/home/IT/Documenti/ML/reddit-comments-may-2015/database.sqlite')"
   ]
  },
  {
   "cell_type": "code",
   "execution_count": 3,
   "metadata": {
    "collapsed": true,
    "jupyter": {
     "outputs_hidden": true
    }
   },
   "outputs": [],
   "source": [
    "df_sarc = pd.read_sql(\"SELECT ups, name, subreddit, id, gilded, downs, score, body, controversiality, parent_id FROM May2015 WHERE LENGTH(body) > 20 AND LENGTH(body) < 200 AND body LIKE '% /s' LIMIT 50000\", sql_conn)"
   ]
  },
  {
   "cell_type": "code",
   "execution_count": 5,
   "metadata": {
    "collapsed": true,
    "jupyter": {
     "outputs_hidden": true
    }
   },
   "outputs": [],
   "source": [
    "df_ser = pd.read_sql(\"SELECT ups, name, subreddit, id, gilded, downs, score, body, controversiality, parent_id FROM May2015 WHERE LENGTH(body) > 20 AND LENGTH(body) < 200 AND body NOT LIKE '% /s' LIMIT 25000\", sql_conn)"
   ]
  },
  {
   "cell_type": "markdown",
   "metadata": {},
   "source": [
    "removing \"/s\" labels from sarcastic posts."
   ]
  },
  {
   "cell_type": "code",
   "execution_count": 6,
   "metadata": {
    "collapsed": true,
    "jupyter": {
     "outputs_hidden": true
    }
   },
   "outputs": [],
   "source": [
    "df_sarc['body'].replace(value = '', regex = ' /s', inplace = True)"
   ]
  },
  {
   "cell_type": "markdown",
   "metadata": {},
   "source": [
    "Labeling dataframes."
   ]
  },
  {
   "cell_type": "code",
   "execution_count": 7,
   "metadata": {
    "collapsed": true,
    "jupyter": {
     "outputs_hidden": true
    }
   },
   "outputs": [],
   "source": [
    "df_sarc['is_sarc'] = [1]*len(df_sarc)\n",
    "df_ser['is_sarc'] = [0]*len(df_ser)"
   ]
  },
  {
   "cell_type": "markdown",
   "metadata": {},
   "source": [
    "Joining the two dataframes, in order to clean them at once. "
   ]
  },
  {
   "cell_type": "code",
   "execution_count": 9,
   "metadata": {},
   "outputs": [],
   "source": [
    "data = shuffle(df_ser.append(df_sarc)).reset_index(drop = True)"
   ]
  },
  {
   "cell_type": "markdown",
   "metadata": {},
   "source": [
    "Applying cleaner function, which removes strange symbols, numbers, urls, newlines and carriage returns."
   ]
  },
  {
   "cell_type": "code",
   "execution_count": 56,
   "metadata": {
    "collapsed": true,
    "jupyter": {
     "outputs_hidden": true
    }
   },
   "outputs": [],
   "source": [
    "def cleaner(text):\n",
    "    text = ''.join(word for word in text if ord(word)<128 and not i.isdigit())\n",
    "    text = re.sub('((www\\.[^\\s]+)|(https?://[^\\s]+))','URL',text)\n",
    "    text = re.sub(\"\\n\",\" \",text)\n",
    "    text = re.sub(\"\\r\",\" \",text)\n",
    "    text = ''.join(i for i in text if not i.isdigit())\n",
    "    return text"
   ]
  },
  {
   "cell_type": "code",
   "execution_count": 57,
   "metadata": {
    "collapsed": true,
    "jupyter": {
     "outputs_hidden": true
    }
   },
   "outputs": [],
   "source": [
    "data['body'] = data['body'].apply(cleaner)"
   ]
  },
  {
   "cell_type": "markdown",
   "metadata": {},
   "source": [
    "Removing not english posts."
   ]
  },
  {
   "cell_type": "code",
   "execution_count": 11,
   "metadata": {},
   "outputs": [],
   "source": [
    "for i in range(0, len(data)):\n",
    "    try:\n",
    "        if detect(data[\"body\"][i]) != \"en\":\n",
    "            data.drop(i, inplace = True)\n",
    "    except:\n",
    "        data.drop(i, inplace = True)"
   ]
  },
  {
   "cell_type": "markdown",
   "metadata": {},
   "source": [
    "Dropping columns I don't need for classificaion."
   ]
  },
  {
   "cell_type": "code",
   "execution_count": 12,
   "metadata": {
    "collapsed": true,
    "jupyter": {
     "outputs_hidden": true
    }
   },
   "outputs": [],
   "source": [
    "data.drop([\"name\",\"id\",\"parent_id\",\"ups\",\"downs\", \"score\",\n",
    "                          \"gilded\",\"distinguished\",\"controversiality\",\"parent_id\"], axis = 1, inplace = True)"
   ]
  },
  {
   "cell_type": "markdown",
   "metadata": {},
   "source": [
    "# Model Building and Training"
   ]
  },
  {
   "cell_type": "markdown",
   "metadata": {},
   "source": [
    "Splitting data in train and test"
   ]
  },
  {
   "cell_type": "code",
   "execution_count": 6,
   "metadata": {
    "collapsed": true,
    "jupyter": {
     "outputs_hidden": true
    }
   },
   "outputs": [],
   "source": [
    "margin= int(4/5*len(data))"
   ]
  },
  {
   "cell_type": "code",
   "execution_count": 7,
   "metadata": {
    "collapsed": true,
    "jupyter": {
     "outputs_hidden": true
    }
   },
   "outputs": [],
   "source": [
    "text_train= data[:margin]\n",
    "text_test = data[margin:]\n",
    "y_train = text_train[\"is_sarc\"]\n",
    "y_test = text_test[\"is_sarc\"]\n",
    "text_train = text_train.drop(\"is_sarc\", axis = 1)\n",
    "text_test = text_test.drop(\"is_sarc\", axis = 1)"
   ]
  },
  {
   "cell_type": "markdown",
   "metadata": {},
   "source": [
    "Defining classification models which will be tested one against the other."
   ]
  },
  {
   "cell_type": "code",
   "execution_count": 9,
   "metadata": {
    "collapsed": true,
    "jupyter": {
     "outputs_hidden": true
    }
   },
   "outputs": [],
   "source": [
    "models = {'LR' : LogisticRegression(), 'NB' : MultinomialNB()}"
   ]
  },
  {
   "cell_type": "markdown",
   "metadata": {},
   "source": [
    "Making a Bag of Words with unigrams and bigrams out of the body of the training set. Deleting stopwords."
   ]
  },
  {
   "cell_type": "code",
   "execution_count": 10,
   "metadata": {
    "collapsed": true,
    "jupyter": {
     "outputs_hidden": true
    }
   },
   "outputs": [],
   "source": [
    "vect = CountVectorizer(min_df = 5, stop_words = \"english\", ngram_range = (1, 2)).fit(text_train[\"body\"])\n",
    "X_train = vect.transform(text_train['body'])"
   ]
  },
  {
   "cell_type": "markdown",
   "metadata": {},
   "source": [
    "For each model, finding best parameters. For each best-paramter estimator choose most informative ngrams. Adding to the text of the post the most informative ngrams with subreddit concatenated. As an example \"hello i am italian\" in the subrreddit \"greetings\", supposing \"hello\" and \"italian\" are informative, becomes \"hello I am italian hello_greetings italian_greetings hello_italian_greetings\". The ratio between that is to consider each word in its context."
   ]
  },
  {
   "cell_type": "code",
   "execution_count": 8,
   "metadata": {
    "collapsed": true,
    "jupyter": {
     "outputs_hidden": true
    }
   },
   "outputs": [],
   "source": [
    "def make_concat(label) :\n",
    "    return lambda row : concat_subreddit(row, label)\n",
    "\n",
    "def concat_subreddit(row, label) :\n",
    "    list_of_words = row['body'].split(' ')\n",
    "    list_of_words = map(lambda word : \n",
    "                        word + '_' + row['subreddit'] if word in useful_ngrams[label] else '', list_of_words\n",
    "                       )\n",
    "    return ' '.join(list_of_words)"
   ]
  },
  {
   "cell_type": "code",
   "execution_count": 11,
   "metadata": {
    "collapsed": true,
    "jupyter": {
     "outputs_hidden": true
    }
   },
   "outputs": [],
   "source": [
    "useful_ngrams = {}\n",
    "dataframes = {}\n",
    "param_grid = {'LR' : {'C' : [0.001, 0.01, 0.1, 1, 10]}, 'NB' : {'alpha' : [0.001, 0.01, 0.1, 1, 10]}}\n",
    "for label in models.keys() :\n",
    "    grid = GridSearchCV(models[label], param_grid[label], cv = 5)\n",
    "    grid.fit(X_train, y_train)\n",
    "    words_selector = SelectFromModel(grid.best_estimator_, threshold = 10**(-1)).fit(X_train, y_train)\n",
    "    useful_ngrams[label] = [list(vect.vocabulary_.keys())[i] for i in words_selector.get_support(indices = True)]\n",
    "    dataframes[label] = data.copy()\n",
    "    dataframes[label]['body_subreddit'] = dataframes[label][['body', 'subreddit']].apply(make_concat(label), axis = 1)\n",
    "    dataframes[label]['text'] = dataframes[label]['body'] + ' ' + dataframes[label]['body_subreddit']"
   ]
  },
  {
   "cell_type": "markdown",
   "metadata": {},
   "source": [
    "# Testing"
   ]
  },
  {
   "cell_type": "code",
   "execution_count": 12,
   "metadata": {
    "collapsed": true,
    "jupyter": {
     "outputs_hidden": true
    }
   },
   "outputs": [],
   "source": [
    "X_text = {model : dataframes[model]['text'] for model in models}\n",
    "y = data['is_sarc']"
   ]
  },
  {
   "cell_type": "code",
   "execution_count": 13,
   "metadata": {
    "collapsed": true,
    "jupyter": {
     "outputs_hidden": true
    }
   },
   "outputs": [],
   "source": [
    "X = {}\n",
    "for label in models.keys() :\n",
    "    X[label] = CountVectorizer(min_df = 5, stop_words = \"english\", ngram_range = (1, 2)).fit_transform(X_text[label])"
   ]
  },
  {
   "cell_type": "markdown",
   "metadata": {},
   "source": [
    "# Plots"
   ]
  },
  {
   "cell_type": "code",
   "execution_count": null,
   "metadata": {
    "collapsed": true,
    "jupyter": {
     "outputs_hidden": true
    }
   },
   "outputs": [],
   "source": [
    "from sklearn.model_selection import learning_curve\n",
    "import seaborn as sns\n",
    "import matplotlib.pyplot as plt\n",
    "%matplotlib inline"
   ]
  },
  {
   "cell_type": "code",
   "execution_count": null,
   "metadata": {
    "collapsed": true,
    "jupyter": {
     "outputs_hidden": true
    }
   },
   "outputs": [],
   "source": [
    "models = {'LR' : LogisticRegression(), 'NB' : MultinomialNB()}\n",
    "scor_functs = ['accuracy', 'precision', 'recall']\n",
    "train_sizes = {scor : {} for scor in scor_functs}\n",
    "train_scores = {scor : {} for scor in scor_functs}\n",
    "valid_scores = {scor : {} for scor in scor_functs}\n",
    "for label in models.keys() :\n",
    "    for scor in scor_functs :\n",
    "        train_sizes[scor][label], train_scores[scor][label], valid_scores[scor][label] = learning_curve(\n",
    "            GridSearchCV(models[label], param_grid[label]), X[label], y, \n",
    "                train_sizes = [ 0.3, 0.7, 0.8, 0.9, 1.], scoring = scor\n",
    "        )"
   ]
  },
  {
   "cell_type": "code",
   "execution_count": null,
   "metadata": {
    "scrolled": true
   },
   "outputs": [],
   "source": [
    "fig, axes = plt.subplots(3, 1, figsize = (10, 20), sharex = True)\n",
    "fig.suptitle('Model Comparison')\n",
    "for i in range(3) :\n",
    "    for label in models.keys() :\n",
    "        axes[i].plot(train_sizes[scor_functs[i]][label], np.mean(train_scores[scor_functs[i]][label], 1), label = 'Train' + ' ' + label)\n",
    "        axes[i].plot(train_sizes[scor_functs[i]][label], np.mean(valid_scores[scor_functs[i]][label], 1), label = 'Test' + ' ' + label)\n",
    "        axes[i].legend()\n",
    "for i in range(3) :\n",
    "    axes[i].set_ylabel(scor_functs[i])\n",
    "    axes[i].set_xlabel('train size')\n",
    "#plt.savefig('evaluation_graphs.png')"
   ]
  }
 ],
 "metadata": {
  "kernelspec": {
   "display_name": "Python 3",
   "language": "python",
   "name": "python3"
  },
  "language_info": {
   "codemirror_mode": {
    "name": "ipython",
    "version": 3
   },
   "file_extension": ".py",
   "mimetype": "text/x-python",
   "name": "python",
   "nbconvert_exporter": "python",
   "pygments_lexer": "ipython3",
   "version": "3.6.9"
  }
 },
 "nbformat": 4,
 "nbformat_minor": 4
}
