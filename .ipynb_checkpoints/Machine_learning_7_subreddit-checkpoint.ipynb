{
 "cells": [
  {
   "cell_type": "markdown",
   "metadata": {},
   "source": [
    "Importiamo il nostro equipaggiamento\n"
   ]
  },
  {
   "cell_type": "code",
   "execution_count": 1,
   "metadata": {
    "collapsed": true
   },
   "outputs": [],
   "source": [
    "import sqlite3, time, csv, re, random, string\n",
    "import time\n",
    "import codecs\n",
    "import numpy as np\n",
    "import sqlite3\n",
    "import pandas as pd\n",
    "from sklearn.feature_extraction.text import TfidfVectorizer\n",
    "from sklearn.pipeline import make_pipeline\n",
    "from sklearn.model_selection import GridSearchCV\n",
    "from sklearn.feature_extraction.text import ENGLISH_STOP_WORDS\n",
    "from sklearn.feature_extraction import DictVectorizer\n",
    "from sklearn.feature_extraction.text import CountVectorizer\n",
    "from sklearn.model_selection import cross_val_score\n",
    "from sklearn.model_selection import train_test_split\n",
    "from sklearn.feature_selection import SelectFromModel\n",
    "from sklearn.linear_model import LogisticRegression\n",
    "from sklearn.naive_bayes import MultinomialNB\n",
    "from sklearn.metrics import accuracy_score\n",
    "from sklearn.metrics import confusion_matrix\n",
    "from sklearn.utils import shuffle\n",
    "from langdetect import detect, DetectorFactory\n",
    "from scipy.sparse import csr_matrix\n",
    "from sklearn.metrics import classification_report\n",
    "DetectorFactory.seed = 0\n",
    "import warnings\n",
    "warnings.filterwarnings(\"ignore\") "
   ]
  },
  {
   "cell_type": "markdown",
   "metadata": {},
   "source": [
    "# 1. Pulizia post (che io ho fatto una volta, su 10 000 sarcastici e 10 000 non sarcastici e poi sempre letto da file)"
   ]
  },
  {
   "cell_type": "markdown",
   "metadata": {},
   "source": [
    "Connetto al database SQL e scarico i post in due diversi dataframe, uno per i post sarcastici, uno per quelli \"seri\""
   ]
  },
  {
   "cell_type": "code",
   "execution_count": 2,
   "metadata": {
    "collapsed": true
   },
   "outputs": [],
   "source": [
    "# sql_conn = sqlite3.connect('C:\\\\Users\\\\Flavio Macci\\\\Desktop\\\\database.sqlite')\n",
    "sql_conn = sqlite3.connect('/home/IT/Documenti/ML/reddit-comments-may-2015/database.sqlite')"
   ]
  },
  {
   "cell_type": "code",
   "execution_count": 27,
   "metadata": {},
   "outputs": [
    {
     "ename": "SyntaxError",
     "evalue": "EOL while scanning string literal (<ipython-input-27-e37e8fcba648>, line 1)",
     "output_type": "error",
     "traceback": [
      "\u001b[0;36m  File \u001b[0;32m\"<ipython-input-27-e37e8fcba648>\"\u001b[0;36m, line \u001b[0;32m1\u001b[0m\n\u001b[0;31m    df_sarc = pd.read_sql(\"SELECT ups, name, subreddit, id, gilded, downs,\u001b[0m\n\u001b[0m                                                                           ^\u001b[0m\n\u001b[0;31mSyntaxError\u001b[0m\u001b[0;31m:\u001b[0m EOL while scanning string literal\n"
     ]
    }
   ],
   "source": [
    "df_sarc = pd.read_sql(\"SELECT ups, name, subreddit, id, gilded, downs, score, body, distinguished, controversiality, parent_id FROM May2015 WHERE LENGTH(body) > 20 AND LENGTH(body) < 200 AND body LIKE '% /s' LIMIT 50000\", sql_conn)"
   ]
  },
  {
   "cell_type": "code",
   "execution_count": 5,
   "metadata": {
    "collapsed": true
   },
   "outputs": [],
   "source": [
    "df_ser = pd.read_sql(\"SELECT ups, name, subreddit, id, gilded, downs, score, body, distinguished, controversiality, parent_id FROM May2015 WHERE LENGTH(body) > 20 AND LENGTH(body) < 200 AND body NOT LIKE '% /s' LIMIT 25000\", sql_conn)"
   ]
  },
  {
   "cell_type": "markdown",
   "metadata": {},
   "source": [
    "Pulisco i post sarcastici, rimuovendo i label \" /s\""
   ]
  },
  {
   "cell_type": "code",
   "execution_count": 6,
   "metadata": {
    "collapsed": true
   },
   "outputs": [],
   "source": [
    "df_sarc['body'].replace(value = '', regex = ' /s', inplace = True)"
   ]
  },
  {
   "cell_type": "code",
   "execution_count": 7,
   "metadata": {
    "collapsed": true
   },
   "outputs": [],
   "source": [
    "df_sarc['is_sarc'] = [1]*len(df_sarc)\n",
    "df_ser['is_sarc'] = [0]*len(df_ser)"
   ]
  },
  {
   "cell_type": "code",
   "execution_count": 8,
   "metadata": {
    "collapsed": true
   },
   "outputs": [],
   "source": [
    "def cleaner(text):\n",
    "    text = ''.join(i for i in text if ord(i)<128 and not i.isdigit())\n",
    "    text = re.sub('((www\\.[^\\s]+)|(https?://[^\\s]+))','URL',text)\n",
    "    text = re.sub(\"\\n\",\" \",text)\n",
    "    text = re.sub(\"\\r\",\" \",text)\n",
    "    text = ''.join(i for i in text if not i.isdigit())\n",
    "    return text"
   ]
  },
  {
   "cell_type": "code",
   "execution_count": 9,
   "metadata": {
    "collapsed": true
   },
   "outputs": [],
   "source": [
    "data = shuffle(df_ser.append(df_sarc)).reset_index(drop = True)"
   ]
  },
  {
   "cell_type": "code",
   "execution_count": 10,
   "metadata": {
    "collapsed": true
   },
   "outputs": [],
   "source": [
    "data['body'] = data['body'].apply(cleaner)"
   ]
  },
  {
   "cell_type": "code",
   "execution_count": 11,
   "metadata": {
    "collapsed": true
   },
   "outputs": [],
   "source": [
    "for i in range(0, len(data)):\n",
    "    try:\n",
    "        if detect(data[\"body\"][i]) != \"en\":\n",
    "            data.drop(i, inplace = True)\n",
    "    except:\n",
    "        data.drop(i, inplace = True)"
   ]
  },
  {
   "cell_type": "code",
   "execution_count": 12,
   "metadata": {
    "collapsed": true
   },
   "outputs": [],
   "source": [
    "df = data.drop([\"name\",\"id\",\"parent_id\",\"ups\",\"downs\", \"score\",\n",
    "                          \"gilded\",\"distinguished\",\"controversiality\",\"parent_id\"], axis = 1, inplace = True)"
   ]
  },
  {
   "cell_type": "markdown",
   "metadata": {},
   "source": [
    "# 2. Analisi"
   ]
  },
  {
   "cell_type": "markdown",
   "metadata": {},
   "source": [
    "Si lavora su data (no punteggiatura no lingue straniere)"
   ]
  },
  {
   "cell_type": "markdown",
   "metadata": {},
   "source": [
    "Dopo la prima volta runna da qui che data clean lo legge direttamente da file pulito (no lingue straniere nè punteggiatura)"
   ]
  },
  {
   "cell_type": "code",
   "execution_count": 2,
   "metadata": {},
   "outputs": [],
   "source": [
    "data = pd.read_csv('data_50000')"
   ]
  },
  {
   "cell_type": "code",
   "execution_count": 3,
   "metadata": {
    "collapsed": true
   },
   "outputs": [],
   "source": [
    "data = data[: 30000]"
   ]
  },
  {
   "cell_type": "markdown",
   "metadata": {},
   "source": [
    "Da qui all'inizio del prossimo sottocapitolo è codice inutile che serve solo perchè ho letto da file"
   ]
  },
  {
   "cell_type": "code",
   "execution_count": 4,
   "metadata": {},
   "outputs": [
    {
     "data": {
      "text/plain": [
       "Unnamed: 0    0\n",
       "subreddit     0\n",
       "body          0\n",
       "is_sarc       0\n",
       "dtype: int64"
      ]
     },
     "execution_count": 4,
     "metadata": {},
     "output_type": "execute_result"
    }
   ],
   "source": [
    "data.isnull().sum()"
   ]
  },
  {
   "cell_type": "code",
   "execution_count": 5,
   "metadata": {
    "collapsed": true
   },
   "outputs": [],
   "source": [
    "data.dropna(inplace = True)"
   ]
  },
  {
   "cell_type": "markdown",
   "metadata": {},
   "source": [
    "## Clean"
   ]
  },
  {
   "cell_type": "markdown",
   "metadata": {},
   "source": [
    "Logistic regression"
   ]
  },
  {
   "cell_type": "code",
   "execution_count": 6,
   "metadata": {
    "collapsed": true
   },
   "outputs": [],
   "source": [
    "margin= int(4/5*len(data))"
   ]
  },
  {
   "cell_type": "code",
   "execution_count": 7,
   "metadata": {},
   "outputs": [],
   "source": [
    "text_train= data[:margin]\n",
    "text_test = data[margin:]\n",
    "y_train = text_train[\"is_sarc\"]\n",
    "y_test = text_test[\"is_sarc\"]\n",
    "text_train = text_train.drop(\"is_sarc\", axis = 1)\n",
    "text_test = text_test.drop(\"is_sarc\", axis = 1)"
   ]
  },
  {
   "cell_type": "markdown",
   "metadata": {},
   "source": [
    "Bag of words con ngarms = (1, 2) ) (quindi oltre alle parole ti considera anche le coppie)"
   ]
  },
  {
   "cell_type": "code",
   "execution_count": 8,
   "metadata": {
    "collapsed": true
   },
   "outputs": [],
   "source": [
    "vect = CountVectorizer(min_df = 5, stop_words = \"english\", ngram_range = (1, 2)).fit(text_train[\"body\"])\n",
    "X_train = vect.transform(text_train[\"body\"])"
   ]
  },
  {
   "cell_type": "markdown",
   "metadata": {},
   "source": [
    "Il prossimo comando seleziona le variabili utili"
   ]
  },
  {
   "cell_type": "code",
   "execution_count": 9,
   "metadata": {},
   "outputs": [],
   "source": [
    "param_grid = {'alpha': [0.001, 0.01, 0.1, 1, 10]}\n",
    "grid = GridSearchCV(MultinomialNB(), param_grid, cv = 5)\n",
    "grid.fit(X_train, y_train)\n",
    "words_selector = SelectFromModel(grid.best_estimator_, threshold = 10**(-1)).fit(X_train, y_train)\n",
    "useful_words = [list(vect.vocabulary_.keys())[i] for i in words_selector.get_support(indices = True)]"
   ]
  },
  {
   "cell_type": "markdown",
   "metadata": {},
   "source": [
    "Questo invece mostra la performance senza subreddit"
   ]
  },
  {
   "cell_type": "code",
   "execution_count": 10,
   "metadata": {},
   "outputs": [
    {
     "name": "stdout",
     "output_type": "stream",
     "text": [
      "             precision    recall  f1-score   support\n",
      "\n",
      "          0       0.68      0.69      0.68      2916\n",
      "          1       0.70      0.69      0.70      3084\n",
      "\n",
      "avg / total       0.69      0.69      0.69      6000\n",
      "\n"
     ]
    }
   ],
   "source": [
    "param_grid = {'alpha': [0.001, 0.01, 0.1, 1, 10]}\n",
    "grid = GridSearchCV(MultinomialNB(), param_grid, cv=10)\n",
    "grid.fit(X_train, y_train)\n",
    "X_test = vect.transform(text_test[\"body\"])\n",
    "y_pred = grid.predict(X_test)\n",
    "print(classification_report(y_test, y_pred))"
   ]
  },
  {
   "cell_type": "markdown",
   "metadata": {},
   "source": [
    "## Pulito con subreddit"
   ]
  },
  {
   "cell_type": "markdown",
   "metadata": {},
   "source": [
    "Aggiungo un campo text contentente gli ngrammi significativi selezionati al paragrafo precedente seguiti dal corrispondente subreddit (sotto ho stampato un esempio)"
   ]
  },
  {
   "cell_type": "code",
   "execution_count": 11,
   "metadata": {
    "collapsed": true
   },
   "outputs": [],
   "source": [
    "def concat_subreddit(row) :\n",
    "    list_of_words = row['body'].split(' ')\n",
    "    list_of_words = map(lambda word : word + ' ' + row['subreddit'] if word in useful_words else '', list_of_words)\n",
    "    return ' '.join(list_of_words)"
   ]
  },
  {
   "cell_type": "code",
   "execution_count": 12,
   "metadata": {
    "collapsed": true
   },
   "outputs": [],
   "source": [
    "data['body_subreddit'] = data[['body', 'subreddit']].apply(concat_subreddit, axis = 1)"
   ]
  },
  {
   "cell_type": "code",
   "execution_count": 13,
   "metadata": {
    "collapsed": true
   },
   "outputs": [],
   "source": [
    "data['text'] = data['body'] + ' ' + data['body_subreddit']"
   ]
  },
  {
   "cell_type": "markdown",
   "metadata": {},
   "source": [
    "Example"
   ]
  },
  {
   "cell_type": "code",
   "execution_count": 14,
   "metadata": {},
   "outputs": [
    {
     "name": "stdout",
     "output_type": "stream",
     "text": [
      "body = This is Carlsbad   It is much more conservative   So it is scarier still  \n",
      "subreddit = OkCupid\n",
      "text =  This is Carlsbad   It is much more conservative   So it is scarier still            conservative OkCupid         \n"
     ]
    }
   ],
   "source": [
    "print('body =', data['body'][2])\n",
    "print('subreddit =', data['subreddit'][2])\n",
    "print('text = ', data['text'][2])"
   ]
  },
  {
   "cell_type": "markdown",
   "metadata": {},
   "source": [
    "Adesso text viene vettorizzato con ngrams = (1, 3) per mettere nel vocabolario anche parole e coppie seguite dal subreddit (quindi, ad esempio, è come se stessimo considerando, nell'esempio, tutte le parole del body, più really nel contesto 'AskReddit' e surprising nel contesto 'AskReddit' e, se il 2gramma really surprising fosse stato nella lista degli ngrammi utili, avremmo considerato anche really surprising AskReddit, ovvero l'espressione really surprising nel contesto AskReddit)"
   ]
  },
  {
   "cell_type": "code",
   "execution_count": 15,
   "metadata": {
    "collapsed": true
   },
   "outputs": [],
   "source": [
    "margin = int(4/5 * len(data))"
   ]
  },
  {
   "cell_type": "code",
   "execution_count": 16,
   "metadata": {
    "collapsed": true
   },
   "outputs": [],
   "source": [
    "text_train = data[:margin]\n",
    "text_test = data[margin:]\n",
    "y_train = text_train[\"is_sarc\"]\n",
    "y_test = text_test[\"is_sarc\"]\n",
    "text_train = text_train.drop(\"is_sarc\", axis = 1)\n",
    "text_test = text_test.drop(\"is_sarc\", axis = 1)"
   ]
  },
  {
   "cell_type": "code",
   "execution_count": 17,
   "metadata": {
    "collapsed": true
   },
   "outputs": [],
   "source": [
    "vect = CountVectorizer(min_df = 5, stop_words = \"english\", ngram_range = (1, 3)).fit(text_train[\"text\"])\n",
    "X_train = vect.transform(text_train[\"text\"])"
   ]
  },
  {
   "cell_type": "code",
   "execution_count": 18,
   "metadata": {},
   "outputs": [
    {
     "name": "stdout",
     "output_type": "stream",
     "text": [
      "             precision    recall  f1-score   support\n",
      "\n",
      "          0       0.73      0.74      0.73      2916\n",
      "          1       0.75      0.74      0.74      3084\n",
      "\n",
      "avg / total       0.74      0.74      0.74      6000\n",
      "\n"
     ]
    }
   ],
   "source": [
    "param_grid = {'alpha': [0.001, 0.01, 0.1, 1, 10]}\n",
    "grid = GridSearchCV(MultinomialNB(), param_grid, cv=10)\n",
    "grid.fit(X_train, y_train)\n",
    "X_test = vect.transform(text_test[\"text\"])\n",
    "y_pred = grid.predict(X_test)\n",
    "print(classification_report(y_test, y_pred))"
   ]
  }
 ],
 "metadata": {
  "kernelspec": {
   "display_name": "Python 3",
   "language": "python",
   "name": "python3"
  },
  "language_info": {
   "codemirror_mode": {
    "name": "ipython",
    "version": 3
   },
   "file_extension": ".py",
   "mimetype": "text/x-python",
   "name": "python",
   "nbconvert_exporter": "python",
   "pygments_lexer": "ipython3",
   "version": "3.6.4"
  }
 },
 "nbformat": 4,
 "nbformat_minor": 2
}
